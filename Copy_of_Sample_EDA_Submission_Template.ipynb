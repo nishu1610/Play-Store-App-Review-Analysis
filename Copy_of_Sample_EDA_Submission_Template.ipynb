{
  "nbformat": 4,
  "nbformat_minor": 0,
  "metadata": {
    "colab": {
      "private_outputs": true,
      "provenance": [],
      "collapsed_sections": [
        "vncDsAP0Gaoa",
        "FJNUwmbgGyua",
        "w6K7xa23Elo4",
        "yQaldy8SH6Dl",
        "PH-0ReGfmX4f",
        "mDgbUHAGgjLW",
        "O_i_v8NEhb9l",
        "HhfV-JJviCcP",
        "Y3lxredqlCYt",
        "3RnN4peoiCZX",
        "x71ZqKXriCWQ",
        "7hBIi_osiCS2",
        "JlHwYmJAmNHm",
        "35m5QtbWiB9F",
        "PoPl-ycgm1ru",
        "H0kj-8xxnORC",
        "nA9Y7ga8ng1Z",
        "PBTbrJXOngz2",
        "u3PMJOP6ngxN",
        "dauF4eBmngu3",
        "bKJF3rekwFvQ",
        "MSa1f5Uengrz",
        "GF8Ens_Soomf",
        "0wOQAZs5pc--",
        "K5QZ13OEpz2H",
        "lQ7QKXXCp7Bj",
        "448CDAPjqfQr",
        "KSlN3yHqYklG",
        "t6dVpIINYklI",
        "ijmpgYnKYklI",
        "-JiQyfWJYklI",
        "EM7whBJCYoAo",
        "fge-S5ZAYoAp",
        "85gYPyotYoAp",
        "RoGjAbkUYoAp",
        "4Of9eVA-YrdM",
        "iky9q4vBYrdO",
        "F6T5p64dYrdO",
        "y-Ehk30pYrdP",
        "bamQiAODYuh1",
        "QHF8YVU7Yuh3",
        "GwzvFGzlYuh3",
        "qYpmQ266Yuh3",
        "OH-pJp9IphqM",
        "bbFf2-_FphqN",
        "_ouA3fa0phqN",
        "Seke61FWphqN",
        "PIIx-8_IphqN",
        "t27r6nlMphqO",
        "r2jJGEOYphqO",
        "b0JNsNcRphqO",
        "BZR9WyysphqO",
        "jj7wYXLtphqO",
        "eZrbJ2SmphqO",
        "rFu4xreNphqO",
        "YJ55k-q6phqO",
        "gCFgpxoyphqP",
        "OVtJsKN_phqQ",
        "lssrdh5qphqQ",
        "U2RJ9gkRphqQ",
        "1M8mcRywphqQ",
        "tgIPom80phqQ",
        "JMzcOPDDphqR",
        "x-EpHcCOp1ci",
        "X_VqEhTip1ck",
        "8zGJKyg5p1ck",
        "PVzmfK_Ep1ck",
        "n3dbpmDWp1ck",
        "ylSl6qgtp1ck",
        "ZWILFDl5p1ck",
        "M7G43BXep1ck",
        "Ag9LCva-p1cl",
        "E6MkPsBcp1cl",
        "2cELzS2fp1cl",
        "3MPXvC8up1cl",
        "NC_X3p0fY2L0",
        "UV0SzAkaZNRQ",
        "YPEH6qLeZNRQ",
        "q29F0dvdveiT",
        "EXh0U9oCveiU",
        "22aHeOlLveiV",
        "JcMwzZxoAimU",
        "8G2x9gOozGDZ",
        "gCX9965dhzqZ",
        "gIfDvo9L0UH2"
      ],
      "include_colab_link": true
    },
    "kernelspec": {
      "name": "python3",
      "display_name": "Python 3"
    },
    "language_info": {
      "name": "python"
    }
  },
  "cells": [
    {
      "cell_type": "markdown",
      "metadata": {
        "id": "view-in-github",
        "colab_type": "text"
      },
      "source": [
        "<a href=\"https://colab.research.google.com/github/nishu1610/Play-Store-App-Review-Analysis/blob/main/Copy_of_Sample_EDA_Submission_Template.ipynb\" target=\"_parent\"><img src=\"https://colab.research.google.com/assets/colab-badge.svg\" alt=\"Open In Colab\"/></a>"
      ]
    },
    {
      "cell_type": "markdown",
      "source": [
        "# **Project Name**    -\n",
        "\n",
        "#[ Play Store App Review Analysis]"
      ],
      "metadata": {
        "id": "vncDsAP0Gaoa"
      }
    },
    {
      "cell_type": "markdown",
      "source": [
        "##### **Project Type**    - EDA\n",
        "##### **Contribution**    - Individual\n",
        "##### **Author** - Nishu Mishra"
      ],
      "metadata": {
        "id": "beRrZCGUAJYm"
      }
    },
    {
      "cell_type": "markdown",
      "source": [
        "# **Project Summary -**"
      ],
      "metadata": {
        "id": "FJNUwmbgGyua"
      }
    },
    {
      "cell_type": "markdown",
      "source": [
        "# Hello everyone!\n",
        " Play Store App Review Analysis project is done by me. This is my first project done by using python.\n",
        " In this colab notebook I'm gonna analysis the play store app raviews and rattings. I'll analysis which app have more downloads and which app have more reivews or ratting. In this notebook, we will do a comprehensive analysis of the Android app market by comparing over ten thousand apps in Google Play across different categories. We'll look for insights in the data to devise strategies to drive growth and retention.\n",
        "The data, which consists of two files:\n",
        "\n",
        "* **playstore data.csv:** contains all the details of the applications on Google Play. There are 13 features that describe a given app.\n",
        "* **user_reviews.csv:** contains 100 reviews for each app, most helpful first. The text in each review has been pre-processed and attributed with three new features: Sentiment (Positive, Negative or Neutral), Sentiment Polarity and Sentiment Subjectivity.\n",
        "\n"
      ],
      "metadata": {
        "id": "F6v_1wHtG2nS"
      }
    },
    {
      "cell_type": "markdown",
      "source": [
        "# **GitHub Link -**"
      ],
      "metadata": {
        "id": "w6K7xa23Elo4"
      }
    },
    {
      "cell_type": "markdown",
      "source": [
        "Provide your GitHub Link here."
      ],
      "metadata": {
        "id": "h1o69JH3Eqqn"
      }
    },
    {
      "cell_type": "markdown",
      "source": [
        "# **Problem Statement**\n"
      ],
      "metadata": {
        "id": "yQaldy8SH6Dl"
      }
    },
    {
      "cell_type": "markdown",
      "source": [
        "**On play store there are numbers of app. We need to check that\n",
        "* Which app have more downlods,\n",
        "* Which is top rated app  \n",
        "* Which app have more reviews\n",
        "* Which paid app is more installed\n",
        "* Top category of app on play store\n",
        "* How does the count of apps varies by Genres\n",
        "* Lets us discuss the sentiment subjectivity\n",
        "* How are reviews and ratings co-related?\n",
        "* Which category has the most no. of installations?\n",
        "* Which category have more audience**"
      ],
      "metadata": {
        "id": "DpeJGUA3kjGy"
      }
    },
    {
      "cell_type": "markdown",
      "source": [
        "#### **Define Your Business Objective?**"
      ],
      "metadata": {
        "id": "PH-0ReGfmX4f"
      }
    },
    {
      "cell_type": "markdown",
      "source": [
        "1. To get more downloads of aaps\n",
        "2. To get more reviews and ratting on apps."
      ],
      "metadata": {
        "id": "PhDvGCAqmjP1"
      }
    },
    {
      "cell_type": "markdown",
      "source": [
        "# **General Guidelines** : -  "
      ],
      "metadata": {
        "id": "mDgbUHAGgjLW"
      }
    },
    {
      "cell_type": "markdown",
      "source": [
        "1.   Well-structured, formatted, and commented code is required.\n",
        "2.   Exception Handling, Production Grade Code & Deployment Ready Code will be a plus. Those students will be awarded some additional credits.\n",
        "     \n",
        "     The additional credits will have advantages over other students during Star Student selection.\n",
        "       \n",
        "             [ Note: - Deployment Ready Code is defined as, the whole .ipynb notebook should be executable in one go\n",
        "                       without a single error logged. ]\n",
        "\n",
        "3.   Each and every logic should have proper comments.\n",
        "4. You may add as many number of charts you want. Make Sure for each and every chart the following format should be answered.\n",
        "        \n",
        "\n",
        "```\n",
        "# Chart visualization code\n",
        "```\n",
        "            \n",
        "\n",
        "*   Why did you pick the specific chart?\n",
        "*   What is/are the insight(s) found from the chart?\n",
        "* Will the gained insights help creating a positive business impact?\n",
        "Are there any insights that lead to negative growth? Justify with specific reason.\n",
        "\n",
        "5. You have to create at least 20 logical & meaningful charts having important insights.\n",
        "\n",
        "\n",
        "[ Hints : - Do the Vizualization in  a structured way while following \"UBM\" Rule.\n",
        "\n",
        "U - Univariate Analysis,\n",
        "\n",
        "B - Bivariate Analysis (Numerical - Categorical, Numerical - Numerical, Categorical - Categorical)\n",
        "\n",
        "M - Multivariate Analysis\n",
        " ]\n",
        "\n",
        "\n",
        "\n"
      ],
      "metadata": {
        "id": "ZrxVaUj-hHfC"
      }
    },
    {
      "cell_type": "markdown",
      "source": [
        "# ***Let's Begin !***"
      ],
      "metadata": {
        "id": "O_i_v8NEhb9l"
      }
    },
    {
      "cell_type": "markdown",
      "source": [
        "## ***1. Know Your Data***"
      ],
      "metadata": {
        "id": "HhfV-JJviCcP"
      }
    },
    {
      "cell_type": "markdown",
      "source": [
        "### Import Libraries"
      ],
      "metadata": {
        "id": "Y3lxredqlCYt"
      }
    },
    {
      "cell_type": "code",
      "source": [
        "# Import Libraries\n",
        "import pandas as pd\n",
        "import numpy as np\n",
        "import seaborn as sns\n",
        "import matplotlib.pyplot as plt\n",
        "%matplotlib inline\n",
        "import plotly.express as px\n",
        "import pandas as pd\n",
        "from datetime import datetime\n",
        "from datetime import date\n"
      ],
      "metadata": {
        "id": "M8Vqi-pPk-HR"
      },
      "execution_count": null,
      "outputs": []
    },
    {
      "cell_type": "markdown",
      "source": [
        "### Dataset Loading"
      ],
      "metadata": {
        "id": "3RnN4peoiCZX"
      }
    },
    {
      "cell_type": "code",
      "source": [
        "# Load Dataset\n",
        "file_path1=\"/content/Play Store Data.csv\"\n",
        "df1= pd.read_csv(file_path1)\n",
        "file_path2=\"/content/User Reviews.csv\"\n",
        "df2= pd.read_csv(file_path2)\n",
        "# df=pd.concat([df1,df2],axis=1)"
      ],
      "metadata": {
        "id": "4CkvbW_SlZ_R"
      },
      "execution_count": null,
      "outputs": []
    },
    {
      "cell_type": "markdown",
      "source": [
        "### Dataset First View"
      ],
      "metadata": {
        "id": "x71ZqKXriCWQ"
      }
    },
    {
      "cell_type": "code",
      "source": [
        "# Dataset First\n",
        "df1.head()"
      ],
      "metadata": {
        "id": "LWNFOSvLl09H"
      },
      "execution_count": null,
      "outputs": []
    },
    {
      "cell_type": "code",
      "source": [
        "df2.head()"
      ],
      "metadata": {
        "id": "xic3d4cMX0ZU"
      },
      "execution_count": null,
      "outputs": []
    },
    {
      "cell_type": "code",
      "source": [
        "df1.tail()"
      ],
      "metadata": {
        "id": "_hmSswvQX7fl"
      },
      "execution_count": null,
      "outputs": []
    },
    {
      "cell_type": "code",
      "source": [
        "df2.tail()"
      ],
      "metadata": {
        "id": "edcrQwB6YBBK"
      },
      "execution_count": null,
      "outputs": []
    },
    {
      "cell_type": "markdown",
      "source": [
        "### Dataset Rows & Columns count"
      ],
      "metadata": {
        "id": "7hBIi_osiCS2"
      }
    },
    {
      "cell_type": "code",
      "source": [
        "# Dataset Rows & Columns count\n",
        "df1.shape\n",
        "print(df1.shape)\n",
        "print(f\"total number of rows in given data set is {df1.shape[0]}\")\n",
        "print(f\"total number of columns in given data set is {df1.shape[1]}\")\n"
      ],
      "metadata": {
        "id": "Kllu7SJgmLij"
      },
      "execution_count": null,
      "outputs": []
    },
    {
      "cell_type": "code",
      "source": [
        "df2.shape\n",
        "print(df2.shape)\n",
        "print(f\"total number of rows in given data set is {df2.shape[0]}\")\n",
        "print(f\"total number of columns in given data set is {df2.shape[1]}\")"
      ],
      "metadata": {
        "id": "6QjzAmOeZIfD"
      },
      "execution_count": null,
      "outputs": []
    },
    {
      "cell_type": "markdown",
      "source": [
        "### Dataset Information"
      ],
      "metadata": {
        "id": "JlHwYmJAmNHm"
      }
    },
    {
      "cell_type": "code",
      "source": [
        "# Dataset Info\n",
        "df1.info()"
      ],
      "metadata": {
        "id": "e9hRXRi6meOf"
      },
      "execution_count": null,
      "outputs": []
    },
    {
      "cell_type": "code",
      "source": [
        "df2.info()"
      ],
      "metadata": {
        "id": "s8-VwKJ7Z_Zc"
      },
      "execution_count": null,
      "outputs": []
    },
    {
      "cell_type": "markdown",
      "source": [
        "#### Duplicate Values"
      ],
      "metadata": {
        "id": "35m5QtbWiB9F"
      }
    },
    {
      "cell_type": "code",
      "source": [
        "# Dataset Duplicate Value Count\n",
        "len(df1[df1.duplicated()])"
      ],
      "metadata": {
        "id": "1sLdpKYkmox0"
      },
      "execution_count": null,
      "outputs": []
    },
    {
      "cell_type": "code",
      "source": [
        "len(df2[df2.duplicated()])"
      ],
      "metadata": {
        "id": "AzNwUfnzagpO"
      },
      "execution_count": null,
      "outputs": []
    },
    {
      "cell_type": "markdown",
      "source": [
        "#### Missing Values/Null Values"
      ],
      "metadata": {
        "id": "PoPl-ycgm1ru"
      }
    },
    {
      "cell_type": "code",
      "source": [
        "# Missing Values/Null Values Count\n",
        "df1.isnull().sum()"
      ],
      "metadata": {
        "id": "GgHWkxvamxVg"
      },
      "execution_count": null,
      "outputs": []
    },
    {
      "cell_type": "code",
      "source": [
        "df2.isnull().sum()"
      ],
      "metadata": {
        "id": "-KOcFQcba5DL"
      },
      "execution_count": null,
      "outputs": []
    },
    {
      "cell_type": "code",
      "source": [
        "# Visualizing the missing values\n",
        "sns.heatmap(df1.isnull() )"
      ],
      "metadata": {
        "id": "3q5wnI3om9sJ"
      },
      "execution_count": null,
      "outputs": []
    },
    {
      "cell_type": "code",
      "source": [
        "sns.heatmap(df2.isnull() )"
      ],
      "metadata": {
        "id": "JR-7dOGEbIpO"
      },
      "execution_count": null,
      "outputs": []
    },
    {
      "cell_type": "markdown",
      "source": [
        "### What did you know about your dataset?"
      ],
      "metadata": {
        "id": "H0kj-8xxnORC"
      }
    },
    {
      "cell_type": "markdown",
      "source": [
        "There is two data set is given 1st id df1 and second is df2. df1 is all about play sotre data and df2 is all about user reviews."
      ],
      "metadata": {
        "id": "gfoNAAC-nUe_"
      }
    },
    {
      "cell_type": "markdown",
      "source": [
        "## ***2. Understanding Your Variables***"
      ],
      "metadata": {
        "id": "nA9Y7ga8ng1Z"
      }
    },
    {
      "cell_type": "code",
      "source": [
        "# Dataset Columns\n",
        "df1.columns"
      ],
      "metadata": {
        "id": "j7xfkqrt5Ag5"
      },
      "execution_count": null,
      "outputs": []
    },
    {
      "cell_type": "code",
      "source": [
        "df2.columns"
      ],
      "metadata": {
        "id": "1u6qzQfNdyF3"
      },
      "execution_count": null,
      "outputs": []
    },
    {
      "cell_type": "code",
      "source": [
        "# Dataset Describe\n",
        "df1.describe(include='all')"
      ],
      "metadata": {
        "id": "DnOaZdaE5Q5t"
      },
      "execution_count": null,
      "outputs": []
    },
    {
      "cell_type": "code",
      "source": [
        "df2.describe(include='all')"
      ],
      "metadata": {
        "id": "eA8C-waKeBu0"
      },
      "execution_count": null,
      "outputs": []
    },
    {
      "cell_type": "markdown",
      "source": [
        "### Variables Description"
      ],
      "metadata": {
        "id": "PBTbrJXOngz2"
      }
    },
    {
      "cell_type": "markdown",
      "source": [
        "# Here is the datasets that will be using:\n",
        "https://drive.google.com/file/d/1pVZNhpwbqbu3xLf6J-1KrQI_-B8KqDCt/view?usp=drive_link https://drive.google.com/file/d/1zJmyrNtkv_ZnVAY1wtg1irTRbpoZ9rRH/view?usp=drive_link\n",
        "\n",
        "We can find the data source and details here. The dataset consists of 2 tables. The first table called ‘Play Store Data.csv’ consists of 13 columns ( app, category, rating, reviews, size, installs, type, price, content rating, genres). Meanwhile, the second table called ‘googleplaystore_User_Reviews.csv’ consists of 5 columns (app, translated review, sentiment, sentiment polarity, sentiment subjectivity).\n",
        "\n"
      ],
      "metadata": {
        "id": "aJV4KIxSnxay"
      }
    },
    {
      "cell_type": "markdown",
      "source": [
        "# Here is information on what columns represent in Play store Data :\n",
        "\n",
        "**App** - Indivisual name of the applications.\n",
        "\n",
        "**Category** - Category of each applications that available in play store.\n",
        "\n",
        "**Rating** - Play Store ratings for apps showing the proportional number of 1-5 star reviews, are calculated based on the app's current quality ratings from user reviews, rather than the lifetime average value of user reviews, unless the app has very few ratings.\n",
        "\n",
        "**Reviews** - App reviews are the individual comments users can leave under an app.\n",
        "\n",
        "**Size** - The amount of space required to install your app.\n",
        "\n",
        "**Installs** - The number of times the app was installed from the store regardless to any events in the past.\n",
        "\n",
        "**Type** - Type is basically represent either the app is paid or free.\n",
        "\n",
        "**Price** - Price is the amount to be paid if any app is not available for free.or With some apps, you can buy additional content or services within the app.\n",
        "\n",
        "**Content Rating** - Content ratings are used to describe the minimum maturity level of content in apps. However, content ratings don't tell you whether an app is designed for users of a specific age. Ratings are typically based on a number of factors, including sexual content, violence, drugs, gambling, and profane language.\n",
        "\n",
        "**Genres** - Google Play Store app genres refer to the different categories or types of apps available in the Google Play Store.\n",
        "\n",
        "**Last Updated** - It indicates the date and time when the app received its most recent update or release. App updates can include bug fixes, performance improvements, new features, design changes, or compatibility enhancements.\n",
        "\n",
        "**Current Versions** - The \"current versions\" of apps in the Google Play Store refer to the most up-to-date versions available for each app. App developers regularly release updates to improve the functionality, fix bugs, enhance security, and introduce new features. These updates ensure that users have access to the best possible experience with the app.\n",
        "\n",
        "**Android Versions** - When we refer to \"Android versions\" in the context of Google Play Store apps, it means the minimum and target Android versions specified by the app developers. Each Android app is designed to work on a specific range of Android operating system versions. The minimum Android version indicates the oldest version of the Android operating system that the app is compatible with, while the target Android version represents the version that the app is primarily optimized for.\n",
        "\n",
        "#Here is information on what columns represent in User Reviews :##\n",
        "\n",
        "**App** - User reviews in the context of apps refer to the feedback and opinions shared by individuals who have used the app. These reviews are typically found in app stores like the Apple App Store or Google Play Store, where users can rate and leave comments about their experiences with an app. User reviews play a significant role in helping other users make informed decisions about whether to download and use the app.\n",
        "\n",
        "**Translated_Review** - When we talk about \"user reviews translated reviews\" in the context of apps, it refers to the process of translating user reviews from one language to another. User reviews are an essential source of feedback and information for apps, and translating them allows app developers and users to understand and engage with reviews in different languages.\n",
        "\n",
        "**Sentiment** - Sentiment analysis in the context of user reviews refers to the process of determining the emotional tone or sentiment expressed in the reviews. It involves analyzing the text of the reviews to determine whether the sentiment conveyed is positive, negative, or neutral. This analysis can provide valuable insights into how customers perceive and feel about a product, service, or brand.\n",
        "\n",
        "**Sentiment_Polarity** - Sentiment analysis in the context of user reviews refers to the process of determining the emotional tone or sentiment expressed in the reviews. It involves analyzing the text of the reviews to determine whether the sentiment conveyed is positive, negative, or neutral. This analysis can provide valuable insights into how customers perceive and feel about a product, service, or brand.\n",
        "\n",
        "**Sentiment_Subjectivity** - Subjectivity in the context of sentiment analysis refers to the degree of personal opinion, emotion, or judgment expressed in a text. It indicates whether the text contains subjective information based on individual perspectives rather than objective facts. Subjective sentences often convey personal feelings, beliefs, or views, while objective sentences tend to present factual information.\n",
        "\n"
      ],
      "metadata": {
        "id": "RC2_exCljOgw"
      }
    },
    {
      "cell_type": "markdown",
      "source": [
        "### Check Unique Values for each variable."
      ],
      "metadata": {
        "id": "u3PMJOP6ngxN"
      }
    },
    {
      "cell_type": "code",
      "source": [
        "# Check Unique Values for each variable.\n",
        "\n",
        "for i in df1.columns.tolist():\n",
        "  print(\"No. of unique values in \",i,\"is\",df1[i].nunique(),\".\")"
      ],
      "metadata": {
        "id": "zms12Yq5n-jE"
      },
      "execution_count": null,
      "outputs": []
    },
    {
      "cell_type": "code",
      "source": [
        "\n",
        "for i in df2.columns.tolist():\n",
        "  print(\"No. of unique values in \",i,\"is\",df2[i].nunique(),\".\")"
      ],
      "metadata": {
        "id": "NxsZn50qerLg"
      },
      "execution_count": null,
      "outputs": []
    },
    {
      "cell_type": "markdown",
      "source": [
        "## 3. ***Data Wrangling***"
      ],
      "metadata": {
        "id": "dauF4eBmngu3"
      }
    },
    {
      "cell_type": "markdown",
      "source": [
        "### Data Wrangling Code"
      ],
      "metadata": {
        "id": "bKJF3rekwFvQ"
      }
    },
    {
      "cell_type": "code",
      "source": [
        "# Write your code to make your dataset analysis ready.\n",
        "# dropping missing value from user reviews dataset\n",
        "df2.dropna(inplace=True)"
      ],
      "metadata": {
        "id": "wk-9a2fpoLcV"
      },
      "execution_count": null,
      "outputs": []
    },
    {
      "cell_type": "code",
      "source": [
        "# droping row\n",
        "df1 = df1.drop(10472)"
      ],
      "metadata": {
        "id": "es27d6KSspzy"
      },
      "execution_count": null,
      "outputs": []
    },
    {
      "cell_type": "code",
      "source": [
        "# convert obj datatype into int\n",
        "df1['Reviews'] = pd.to_numeric(df1['Reviews'])\n",
        "df1['Rating'] = pd.to_numeric(df1['Rating'])"
      ],
      "metadata": {
        "id": "lKJ9dYFssyda"
      },
      "execution_count": null,
      "outputs": []
    },
    {
      "cell_type": "code",
      "source": [
        "#  column Rename\n",
        "d=df1.rename(columns = {'Content Rating':'Content_Rating'})"
      ],
      "metadata": {
        "id": "B8S0Auhes3la"
      },
      "execution_count": null,
      "outputs": []
    },
    {
      "cell_type": "code",
      "source": [
        "#  Funcction For remove Dollar Sign from price column\n",
        "def remove_dollar_sign(price):\n",
        "    return price.replace(\"$\", \"\")\n",
        "\n",
        "# Apply the function to the \"Price\" column\n",
        "d[\"Price\"] = d[\"Price\"].apply(lambda x: remove_dollar_sign(x))\n",
        "\n",
        "print(d)"
      ],
      "metadata": {
        "id": "vJ5Thexos-TF"
      },
      "execution_count": null,
      "outputs": []
    },
    {
      "cell_type": "code",
      "source": [
        "# Function For Remove + Sign From Column Installs\n",
        "def remove_plus_sign(number):\n",
        "    return number.replace(\"+\", \"\")\n",
        "\n",
        "# Apply the function to the \"Number\" column\n",
        "d[\"Installs\"] = d[\"Installs\"].apply(lambda x: remove_plus_sign(x))\n",
        "\n",
        "print(d)"
      ],
      "metadata": {
        "id": "1TcNrmk_tFTR"
      },
      "execution_count": null,
      "outputs": []
    },
    {
      "cell_type": "code",
      "source": [
        "# convert obj datatype into int\n",
        "d['Price'] = pd.to_numeric(d['Price'])"
      ],
      "metadata": {
        "id": "rPyLlmTBtM0k"
      },
      "execution_count": null,
      "outputs": []
    },
    {
      "cell_type": "code",
      "source": [
        "# User review Data set after dropping rows\n",
        "df2.tail()"
      ],
      "metadata": {
        "id": "9NLyb3OhtREl"
      },
      "execution_count": null,
      "outputs": []
    },
    {
      "cell_type": "code",
      "source": [
        "# check Missing Values/Null Values Count review afterv drop operation\n",
        "df2.isnull().sum()"
      ],
      "metadata": {
        "id": "gOtht57EtWc1"
      },
      "execution_count": null,
      "outputs": []
    },
    {
      "cell_type": "code",
      "source": [
        "# top 5 least rated app category\n",
        "\n",
        "total_app=df1.groupby(['Category'])['Rating'].mean().reset_index()\n",
        "total_app=total_app.sort_values(by=['Rating'], ascending=True).head()\n",
        "total_app\n"
      ],
      "metadata": {
        "id": "KE-wDglrtW8O"
      },
      "execution_count": null,
      "outputs": []
    },
    {
      "cell_type": "code",
      "source": [
        "# Most review app category\n",
        "most_review_app_category=df1.groupby(['Category'])['Reviews'].sum().reset_index()\n",
        "most_review_app_category=most_review_app_category.sort_values(by=['Reviews'],ascending=False).head()\n",
        "most_review_app_category"
      ],
      "metadata": {
        "id": "PF6hFMvYtXiX"
      },
      "execution_count": null,
      "outputs": []
    },
    {
      "cell_type": "code",
      "source": [
        "#  Top App Based On Sentiment_Polarity\n",
        "senti_popularity=df2.groupby(['App'])['Sentiment_Polarity'].mean().reset_index()\n",
        "senti_popularity=senti_popularity.sort_values(by=['Sentiment_Polarity'],ascending=False).head(10)\n",
        "senti_popularity"
      ],
      "metadata": {
        "id": "hcp1jYKjtguR"
      },
      "execution_count": null,
      "outputs": []
    },
    {
      "cell_type": "code",
      "source": [
        "# Top rated App in 'ART_AND_DESIGN' Category\n",
        "c1 = df1[[ 'App', 'Category', 'Rating', 'Type']]\n",
        "c2 = c1[c1.Category == 'ART_AND_DESIGN']\n",
        "c3 = c2[c1.Rating > 4]\n",
        "\n",
        "\n",
        "Top_rated_App_in_ART_AND_DESIGN=c3.sort_values(by=['Rating'],ascending=False).head()\n",
        "Top_rated_App_in_ART_AND_DESIGN"
      ],
      "metadata": {
        "id": "-5tZDf3LtoXm"
      },
      "execution_count": null,
      "outputs": []
    },
    {
      "cell_type": "code",
      "source": [
        "# Most Reviewd App\n",
        "most_review=df1.groupby(['App'])['Reviews'].max().reset_index()\n",
        "most_review=most_review.sort_values(by=['Reviews'],ascending=False).head()\n",
        "most_review"
      ],
      "metadata": {
        "id": "dGk-nv3Xtvjo"
      },
      "execution_count": null,
      "outputs": []
    },
    {
      "cell_type": "code",
      "source": [
        "# Total count of app based on cotent rating\n",
        "total_app_on_content_rating=d.Content_Rating.value_counts().reset_index()\n",
        "total_app_on_content_rating"
      ],
      "metadata": {
        "id": "kJv1EWGyt0uN"
      },
      "execution_count": null,
      "outputs": []
    },
    {
      "cell_type": "code",
      "source": [
        "# Most Costly App\n",
        "most_costly=d.groupby(['App']).agg({'Price':'max','Installs':'sum'}).reset_index()\n",
        "most_costly=most_costly.sort_values(by=['Price'],ascending=False).head(25)\n",
        "most_costly"
      ],
      "metadata": {
        "id": "TbowJ-1Ot0YO"
      },
      "execution_count": null,
      "outputs": []
    },
    {
      "cell_type": "markdown",
      "source": [
        "### What all manipulations have you done and insights you found?"
      ],
      "metadata": {
        "id": "MSa1f5Uengrz"
      }
    },
    {
      "cell_type": "markdown",
      "source": [
        "I have cleaned the data set by doing some changes.And found top 5 least rated app category,Most review app category,Top App Based On Sentiment_Polarity,Top rated App in 'ART_AND_DESIGN' Category,Most Costly App,Most Reviewd App and Total count of app based on cotent rating"
      ],
      "metadata": {
        "id": "LbyXE7I1olp8"
      }
    },
    {
      "cell_type": "markdown",
      "source": [
        "## ***4. Data Vizualization, Storytelling & Experimenting with charts : Understand the relationships between variables***"
      ],
      "metadata": {
        "id": "GF8Ens_Soomf"
      }
    },
    {
      "cell_type": "markdown",
      "source": [
        "#### Chart - 1"
      ],
      "metadata": {
        "id": "0wOQAZs5pc--"
      }
    },
    {
      "cell_type": "code",
      "source": [
        "# Chart - 1 visualization code\n",
        "area=total_app['Category']\n",
        "price=total_app['Rating']\n",
        "plt.scatter(area,price) #creating bar plot\n",
        "\n",
        "plt.xlabel(\"Category\")\n",
        "plt.ylabel(\"Rating\")\n",
        "plt.title(\"Category vs Rating\")\n",
        "plt.show()"
      ],
      "metadata": {
        "id": "7v_ESjsspbW7"
      },
      "execution_count": null,
      "outputs": []
    },
    {
      "cell_type": "markdown",
      "source": [
        "# **Observation**- From the above insight we get to know that apps based on lifestyle have more ratting then other apps so by making such apps we get positive business impact."
      ],
      "metadata": {
        "id": "3cspy4FjqxJW"
      }
    },
    {
      "cell_type": "markdown",
      "source": [
        "#### Chart - 2"
      ],
      "metadata": {
        "id": "KSlN3yHqYklG"
      }
    },
    {
      "cell_type": "code",
      "source": [
        "# Chart - 2 visualization code\n",
        "plt.figure()\n",
        "\n",
        "most_review_app_category.plot.bar(x ='Category', y='Reviews', rot=0, color='skyblue')\n",
        "plt.xlabel('Category')\n",
        "plt.ylabel('Number Reviews reviews')\n",
        "plt.title(' ')\n",
        "plt.xticks(rotation='vertical', size=10)\n",
        "\n",
        "plt.legend('')\n",
        "\n",
        "\n",
        "plt.show()"
      ],
      "metadata": {
        "id": "4e1p7aj5viq1"
      },
      "execution_count": null,
      "outputs": []
    },
    {
      "cell_type": "markdown",
      "source": [
        "# Observation-  By above graph we come to know that game has most number of review than communication, socail, famliy and tools app."
      ],
      "metadata": {
        "id": "eQ8vtJ7uyZo1"
      }
    },
    {
      "cell_type": "markdown",
      "source": [
        "#### Chart - 3"
      ],
      "metadata": {
        "id": "EM7whBJCYoAo"
      }
    },
    {
      "cell_type": "markdown",
      "source": [
        "# Data Exploration--Univariate & Bivariate Analysis"
      ],
      "metadata": {
        "id": "5nmdCPbWzceS"
      }
    },
    {
      "cell_type": "markdown",
      "source": [
        "\n",
        "**Pair plot** is used to understand the best set of features to explain a relationship between two variables or to form the most separated clusters. It also helps to form some simple classification models by drawing some simple lines or make linear separation in our data-set.\n",
        "\n",
        "Plot a pairwise plot between all the quantitative variables to look for any evident patterns or relationships between the features"
      ],
      "metadata": {
        "id": "jfKYgHXhzZuq"
      }
    },
    {
      "cell_type": "code",
      "source": [
        "# Chart - 3 visualization code\n",
        "# Pair Plot visualization code for Play store data set\n",
        "sns.pairplot( df1)"
      ],
      "metadata": {
        "id": "t6GMdE67YoAp"
      },
      "execution_count": null,
      "outputs": []
    },
    {
      "cell_type": "code",
      "source": [
        "# Pair Plot visualization code for User Review data set\n",
        "sns.pairplot( df2)"
      ],
      "metadata": {
        "id": "PMC-V8fI8WyF"
      },
      "execution_count": null,
      "outputs": []
    },
    {
      "cell_type": "markdown",
      "source": [
        "# Observation-  \n",
        "\n",
        "### Most of the App are Free.\n",
        "###Most of the Paid Apps have Rating around 4.\n",
        "###As the number of installation increases the number of reviews of the particaular app also increases.\n",
        "###Most of the Apps are light-weighted."
      ],
      "metadata": {
        "id": "5dBItgRVYoAp"
      }
    },
    {
      "cell_type": "markdown",
      "source": [
        "#### Chart - 4"
      ],
      "metadata": {
        "id": "4Of9eVA-YrdM"
      }
    },
    {
      "cell_type": "code",
      "source": [
        "# Chart - 4 visualization code\n",
        "fig = px.funnel(senti_popularity, x='Sentiment_Polarity', y='App')\n",
        "fig.show()"
      ],
      "metadata": {
        "id": "irlUoxc8YrdO"
      },
      "execution_count": null,
      "outputs": []
    },
    {
      "cell_type": "markdown",
      "source": [
        "## #Observation- Home work app have more sentiment popularity than google slides, work out apps, sound app, cameringo lit filter camera, google primer, gps map app and other aaps.\n"
      ],
      "metadata": {
        "id": "jLNxxz7MYrdP"
      }
    },
    {
      "cell_type": "markdown",
      "source": [
        "#### Chart - 5"
      ],
      "metadata": {
        "id": "bamQiAODYuh1"
      }
    },
    {
      "cell_type": "code",
      "source": [
        "# Chart - 5 visualization code\n",
        "fig = px.histogram(Top_rated_App_in_ART_AND_DESIGN, x=\"App\", y=\"Rating\", color=\"Type\", marginal=\"rug\",\n",
        "                   hover_data=Top_rated_App_in_ART_AND_DESIGN.columns)\n",
        "fig.show()"
      ],
      "metadata": {
        "id": "TIJwrbroYuh3"
      },
      "execution_count": null,
      "outputs": []
    },
    {
      "cell_type": "markdown",
      "source": [
        "### Observation- In above graph free vs paid app ratting we can see that ratting of both apps have likely equal ratting."
      ],
      "metadata": {
        "id": "dcxuIMRPYuh3"
      }
    },
    {
      "cell_type": "markdown",
      "source": [
        "#### Chart - 6"
      ],
      "metadata": {
        "id": "OH-pJp9IphqM"
      }
    },
    {
      "cell_type": "code",
      "source": [
        "# Chart - 6 visualization code\n",
        "fig = px.pie(most_review, values='Reviews', names='App')\n",
        "fig.show()"
      ],
      "metadata": {
        "id": "kuRf4wtuphqN"
      },
      "execution_count": null,
      "outputs": []
    },
    {
      "cell_type": "markdown",
      "source": [
        "### Observation- On platstore facebook has most reviews. It has 24.8% review.Whatsapp also have highest review, it has 21.9% reviews on play store. Instagram has 21.1% reviews, messenger have 18% of reviews and clash on clans has 14.2% review."
      ],
      "metadata": {
        "id": "DW4_bGpfphqN"
      }
    },
    {
      "cell_type": "markdown",
      "source": [
        "#### Chart - 7"
      ],
      "metadata": {
        "id": "PIIx-8_IphqN"
      }
    },
    {
      "cell_type": "code",
      "source": [
        "# Chart - 7 visualization code\n",
        "fig = px.scatter(most_costly, x=\"Price\", y=\"Installs\",\n",
        "\t         color=\"App\",\n",
        "                 hover_name=\"App\", log_x=True, size_max=60)\n",
        "fig.show()"
      ],
      "metadata": {
        "id": "lqAIGUfyphqO"
      },
      "execution_count": null,
      "outputs": []
    },
    {
      "cell_type": "markdown",
      "source": [
        "### Observation- Most expansive app H is install by 1M user on playstore. By comparision we can see that cheap app has more installed than expansive app."
      ],
      "metadata": {
        "id": "iv6ro40sphqO"
      }
    },
    {
      "cell_type": "markdown",
      "source": [
        "#### Chart - 8\n",
        "\n",
        "\n"
      ],
      "metadata": {
        "id": "BZR9WyysphqO"
      }
    },
    {
      "cell_type": "markdown",
      "source": [
        "# # **` What is the ratio of number of Paid apps and Free apps?`**\n"
      ],
      "metadata": {
        "id": "PSfAtDOQ25zP"
      }
    },
    {
      "cell_type": "code",
      "source": [
        "# Chart - 8 visualization code\n",
        "data = df1['Type'].value_counts()\n",
        "labels = ['Free', 'Paid']\n",
        "\n",
        "# create pie chart\n",
        "plt.figure(figsize=(7,7))\n",
        "colors = [\"#00EE76\",\"#7B8895\"]\n",
        "explode=(0.01,0.1)\n",
        "plt.pie(data, labels = labels, colors = colors, autopct='%.2f%%',explode=explode)\n",
        "plt.title('Distribution of Paid and Free apps')\n",
        "plt.legend()"
      ],
      "metadata": {
        "id": "TdPTWpAVphqO"
      },
      "execution_count": null,
      "outputs": []
    },
    {
      "cell_type": "markdown",
      "source": [
        "#Observation-\n",
        "From the above graph we can see that 92% of apps in google play store are free and 8%are paid."
      ],
      "metadata": {
        "id": "ey_0qi68phqO"
      }
    },
    {
      "cell_type": "markdown",
      "source": [
        "#### Chart - 9"
      ],
      "metadata": {
        "id": "YJ55k-q6phqO"
      }
    },
    {
      "cell_type": "markdown",
      "source": [
        "# Which category of Apps from the Content Rating column are found more on playstore ?\n"
      ],
      "metadata": {
        "id": "gH9gfpth3iI3"
      }
    },
    {
      "cell_type": "code",
      "source": [
        "# Chart - 9 visualization code\n",
        "# Content rating of the apps\n",
        "data = df1['Content Rating'].value_counts()\n",
        "labels = ['Everyone', 'Teen', 'Everyone 10+', 'Mature 17+','Adults only 18+', 'Unrated']\n",
        "\n",
        "#create pie chart\n",
        "plt.figure(figsize=(7,7))\n",
        "explode=(0,0.1,0.1,0.1,0.0,1.3)\n",
        "colors = ['C4', 'red', 'skyblue', 'green', 'purple', 'black']\n",
        "plt.pie(data, labels = labels, colors = colors, autopct='%.2f%%',explode=explode)\n",
        "plt.title('Content Rating')\n",
        "plt.legend()"
      ],
      "metadata": {
        "id": "B2aS4O1ophqO"
      },
      "execution_count": null,
      "outputs": []
    },
    {
      "cell_type": "markdown",
      "source": [
        "### Observation- A majority of the apps (82%) in the play store are can be used by everyone.The remaining apps have various age restrictions to use it."
      ],
      "metadata": {
        "id": "tBpY5ekJphqQ"
      }
    },
    {
      "cell_type": "markdown",
      "source": [
        "#### Chart - 10"
      ],
      "metadata": {
        "id": "U2RJ9gkRphqQ"
      }
    },
    {
      "cell_type": "markdown",
      "source": [
        "\n",
        "# Average rating of the apps"
      ],
      "metadata": {
        "id": "CqR3vurnCD1Y"
      }
    },
    {
      "cell_type": "code",
      "source": [
        "# Chart - 10 visualization code\n",
        "# Average app ratings\n",
        "\n",
        "df1['Rating'].value_counts().plot.bar(figsize=(20,8), color = 'm' )\n",
        "plt.xlabel('Average rating')\n",
        "plt.ylabel('Number of apps')\n",
        "plt.title('Average rating of apps in Playstore')\n",
        "plt.legend()"
      ],
      "metadata": {
        "id": "GM7a4YP4phqQ"
      },
      "execution_count": null,
      "outputs": []
    },
    {
      "cell_type": "markdown",
      "source": [
        "## #Observation-  We can represent the ratings in a better way if we group the ratings between certain intervals. Here, we can group the rating as follows:\n",
        "\n",
        "4-5: Top rated\n",
        "3-4: Above average\n",
        "2-3: Average\n",
        " 1-2: Below average"
      ],
      "metadata": {
        "id": "R4Ka1PC2phqR"
      }
    },
    {
      "cell_type": "markdown",
      "source": [
        "#### Chart - 11"
      ],
      "metadata": {
        "id": "x-EpHcCOp1ci"
      }
    },
    {
      "cell_type": "markdown",
      "source": [
        "## Top categories on Google Playstore?"
      ],
      "metadata": {
        "id": "G7IuwxK65DTT"
      }
    },
    {
      "cell_type": "code",
      "source": [
        "df1.groupby(\"Category\")[\"App\"].count().sort_values(ascending= False)"
      ],
      "metadata": {
        "id": "gZmiwuxr5MY2"
      },
      "execution_count": null,
      "outputs": []
    },
    {
      "cell_type": "code",
      "source": [
        "# Chart - 11 visualization code\n",
        "x = df1['Category'].value_counts()\n",
        "y = df1['Category'].value_counts().index\n",
        "x_list = []\n",
        "y_list = []\n",
        "for i in range(len(x)):\n",
        "    x_list.append(x[i])\n",
        "    y_list.append(y[i])"
      ],
      "metadata": {
        "id": "mAQTIvtqp1cj"
      },
      "execution_count": null,
      "outputs": []
    },
    {
      "cell_type": "code",
      "source": [
        "#Number of apps belonging to each category in the playstore\n",
        "plt.figure(figsize=(20,10))\n",
        "plt.xlabel('Number of Apps')\n",
        "plt.ylabel('App Categories')\n",
        "graph = sns.barplot(y = x_list, x = y_list, palette= \"tab10\")\n",
        "graph.set_title(\"Top categories on Playstore\")\n",
        "graph.set_xticklabels(graph.get_xticklabels(), rotation= 90, horizontalalignment='right',);"
      ],
      "metadata": {
        "id": "Aqd6Ab1B56oJ"
      },
      "execution_count": null,
      "outputs": []
    },
    {
      "cell_type": "markdown",
      "source": [
        "### Observation- So there are all total 33 categories in the dataset From the above output we can come to a conclusion that in playstore most of the apps are underFAMILY & GAME category and least are of BEAUTY Category.\n",
        "\n"
      ],
      "metadata": {
        "id": "druuKYZpp1ck"
      }
    },
    {
      "cell_type": "markdown",
      "source": [
        "#### Chart - 12"
      ],
      "metadata": {
        "id": "n3dbpmDWp1ck"
      }
    },
    {
      "cell_type": "code",
      "source": [
        "# Chart - 12 visualization code\n",
        "fig = px.pie(total_app_on_content_rating, values='Content_Rating', names='index', title='total_app_count_on_content_rating')\n",
        "fig.show()\n"
      ],
      "metadata": {
        "id": "bwevp1tKp1ck"
      },
      "execution_count": null,
      "outputs": []
    },
    {
      "cell_type": "markdown",
      "source": [
        "# Observation-\n",
        "This tells us the category of apps that has the maximum number of installs. The Game, Communication and Tools categories has the highest number of installs compared to other categories of apps."
      ],
      "metadata": {
        "id": "m2xqNkiQp1ck"
      }
    },
    {
      "cell_type": "markdown",
      "source": [
        "\n",
        "\n",
        "```\n",
        "# This is formatted as code\n",
        "```\n",
        "\n",
        "#### Chart - 13 Correlation Heatmap"
      ],
      "metadata": {
        "id": "Ag9LCva-p1cl"
      }
    },
    {
      "cell_type": "code",
      "source": [
        "# Chart - 13 visualization code\n",
        "# Correlation Heatmap visualization code for Play store data set\n",
        "\n",
        "\n",
        "plt.figure(figsize=(10,6))\n",
        "correlation = df1.corr()\n",
        "sns.heatmap(abs(correlation), annot=True, cmap='coolwarm')"
      ],
      "metadata": {
        "id": "EUfxeq9-p1cl"
      },
      "execution_count": null,
      "outputs": []
    },
    {
      "cell_type": "code",
      "source": [
        "# Correlation Heatmap visualization code for User Review data set\n",
        "\n",
        "\n",
        "plt.figure(figsize=(10,6))\n",
        "correlation = df1.corr()\n",
        "sns.heatmap(abs(correlation), annot=True, cmap='coolwarm')"
      ],
      "metadata": {
        "id": "2adA3jBK7U-P"
      },
      "execution_count": null,
      "outputs": []
    },
    {
      "cell_type": "markdown",
      "source": [
        "### Observation-\n",
        "-There is a strong positive correlation between the Reviews and Installs column. This is pretty much obvious. Higher the number of installs, higher is the user base, and higher are the total number of reviews dropped by the users.\n",
        "\n",
        "-ThePriceis slightly negatively correlated with the Rating, Reviews, and Installs. This means that as the prices of the app increases, the average rating, total number of reviews and Installs fall slightly.\n",
        "\n",
        "-TheRating is slightly positively correlated with theInstalls and Reviews column. This indicates that as the the average user rating increases, the app installs and number of reviews also increase."
      ],
      "metadata": {
        "id": "GL8l1tdLp1cl"
      }
    },
    {
      "cell_type": "markdown",
      "source": [
        "## **5. Solution to Business Objective**"
      ],
      "metadata": {
        "id": "JcMwzZxoAimU"
      }
    },
    {
      "cell_type": "markdown",
      "source": [
        "#### What do you suggest the client to achieve Business Objective ?\n",
        "Explain Briefly."
      ],
      "metadata": {
        "id": "8G2x9gOozGDZ"
      }
    },
    {
      "cell_type": "markdown",
      "source": [
        "1. Developer need to focus on making free apps.\n",
        "2. Gaming apps are more installed than other apps.\n",
        "3. People are installing small sized of app than long sized app so they need to make small sized app.\n",
        "4. Make less expansive gaming app.\n",
        "5. They need to update their app on regular basis this makes customer attract to install that app.\n",
        "6. Focusing more on content available for Everyone will increase the chances of getting the highest installs.\n",
        "7. They should make good promotion of their app before they launch.\n",
        "8. Gaming app should not have age restriction so even children and adult can play it.\n",
        "* Minecraft is the only app in the paid category with over 10M installs. This app has also produced the most revenue only from the installation fee.\n",
        "* Social midea apps have been installed over a billion times.\n",
        "* The apps whose size is greater than 90 MB has the highest number of average user reviews, ie, they are more popular than the rest.\n",
        "* Only in finance category paid apps have more downloads.\n",
        "* Tools, Entertainment, Education, Buisness and Medical are top Genres.\n"
      ],
      "metadata": {
        "id": "pASKb0qOza21"
      }
    },
    {
      "cell_type": "markdown",
      "source": [
        "# **Conclusion**"
      ],
      "metadata": {
        "id": "gCX9965dhzqZ"
      }
    },
    {
      "cell_type": "markdown",
      "source": [
        " **1.Rating**\n",
        "\n",
        "Most of the apps have rating in between 4 and 5.\n",
        "\n",
        "Most numbers of apps are rated at 4.3\n",
        "\n",
        "Categories of apps have more than 4 average rating.item\n",
        "\n",
        " **2.Size**\n",
        "\n",
        "Maximum number of applications present in the dataset are of small size.\n",
        "\n",
        "**3.Installs**\n",
        "\n",
        "Majority of the apps come into these three categories, Family, Game, and Tools.\n",
        "\n",
        "Maximum number of apps present in google play store come under Family, Game and tools but as per the installation and requirement in the market plot, scenario is not the same. Maximum installed apps comes under Game, Communication, Productivity and Social.\n",
        "\n",
        "Subway Surfers, Facebook, Messenger and Google Drive are the most installed apps.\n",
        "\n",
        "**4.Type(Free/Paid)**\n",
        "\n",
        "About 92% apps are free and 8% apps are of paid type.\n",
        "\n",
        "The category ‘Family’ has the highest number of paid apps.\n",
        "\n",
        "Free apps are installed more than paid apps.\n",
        "\n",
        "The app “I’m Rich — Trump Edition” from the category ‘Lifestyle’ is the most costly app priced at $400\n",
        "\n",
        "**5.Content Rating**\n",
        "\n",
        "Content having Everyone only has most installs, while unrated and Adults only 18+ have less installs.\n",
        "\n",
        "**6.Reviews**\n",
        "\n",
        "Number of installs is positively correlated with reviews with correlation 0.64.\n",
        "Sentiment Analysis\n",
        "\n",
        "**7.Sentiment**\n",
        "\n",
        "Most of the reviews are of Positive Sentiment, while Negative and Neutral have low number of reviews.\n",
        "\n",
        "**8.Sentiment Polarity / Sentiment Subjectivity**\n",
        "\n",
        "Collection of reviews shows a wide range of subjectivity and most of the reviews fall in [-0.50,0.75] polarity scale implying that the extremely negative or positive sentiments are significantly low.\n",
        "Most of the reviews show a mid-range of negative and positive sentiments.\n",
        "\n",
        "Sentiment subjectivity is not always proportional to sentiment polarity but in maximum number of case, shows a proportional behavior, when variance is too high or low."
      ],
      "metadata": {
        "id": "Fjb1IsQkh3yE"
      }
    },
    {
      "cell_type": "markdown",
      "source": [
        "### ***Hurrah! You have successfully completed your EDA Capstone Project !!!***"
      ],
      "metadata": {
        "id": "gIfDvo9L0UH2"
      }
    }
  ]
}